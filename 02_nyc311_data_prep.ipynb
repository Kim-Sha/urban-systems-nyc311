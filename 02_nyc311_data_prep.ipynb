{
 "cells": [
  {
   "cell_type": "code",
   "execution_count": 1,
   "metadata": {
    "colab": {
     "base_uri": "https://localhost:8080/"
    },
    "executionInfo": {
     "elapsed": 7684,
     "status": "ok",
     "timestamp": 1698961170562,
     "user": {
      "displayName": "Kim Sha",
      "userId": "00578803903370555322"
     },
     "user_tz": 240
    },
    "id": "36eGldNS77Wg",
    "outputId": "ee687256-11ab-4f0d-e175-9985d0f84c87"
   },
   "outputs": [],
   "source": [
    "# # For Google Colab\n",
    "# %pip install sodapy\n",
    "# %pip install python-dotenv\n",
    "\n",
    "# from google.colab import drive\n",
    "# drive.mount('/content/drive')"
   ]
  },
  {
   "cell_type": "code",
   "execution_count": 2,
   "metadata": {
    "colab": {
     "base_uri": "https://localhost:8080/"
    },
    "executionInfo": {
     "elapsed": 16588,
     "status": "ok",
     "timestamp": 1698961187144,
     "user": {
      "displayName": "Kim Sha",
      "userId": "00578803903370555322"
     },
     "user_tz": 240
    },
    "id": "F5JN52iv6gFJ",
    "outputId": "5e564e40-4d92-4eb2-e07e-3ae90e65f65d"
   },
   "outputs": [],
   "source": [
    "import os\n",
    "import multiprocess as mp\n",
    "from dotenv import load_dotenv\n",
    "load_dotenv()\n",
    "\n",
    "from tqdm.notebook import tqdm\n",
    "import numpy as np\n",
    "import pandas as pd\n",
    "pd.set_option('display.max_columns', 100)\n",
    "pd.set_option('display.max_rows', 100)\n",
    "\n",
    "import matplotlib.pyplot as plt\n",
    "from matplotlib_venn import venn2, venn3\n",
    "\n",
    "from sodapy import Socrata\n",
    "\n",
    "from tqdm.notebook import tqdm\n",
    "tqdm.pandas()"
   ]
  },
  {
   "cell_type": "markdown",
   "metadata": {
    "id": "64Z5xIfw8Azn"
   },
   "source": [
    "# Predicting SLA Violations of NYC311 Requests\n",
    "\n",
    "This analysis leverages data from NYC Open Data sources:\n",
    "1. **[311 Service Requests from 2010 to Present](https://data.cityofnewyork.us/Social-Services/311-Service-Requests-from-2010-to-Present/erm2-nwe9):** provides 311 reporting as far back as 2010, and is updated on an automated daily basis. Each record in this dataset corresponds to a 311 service request.\n",
    "2. **[311 Service Level Agreements](https://data.cityofnewyork.us/City-Government/311-Service-Level-Agreements/cs9t-e3x8):** Provides the time commitments that City Agencies have made to respond to 311 Service Requests that are assigned to them."
   ]
  },
  {
   "cell_type": "markdown",
   "metadata": {
    "id": "R5yfvdTG8BQw"
   },
   "source": [
    "## Data Ingestion"
   ]
  },
  {
   "attachments": {},
   "cell_type": "markdown",
   "metadata": {},
   "source": [
    "### Service Level Agreements (SLAs)\n",
    "\n",
    "A 311 Service Request is a customer request for a City Agency’s attention and response to a particular condition or situation. Service Requests are highly structured according to the information the receiving Agency needs to evaluate and respond. The Service Level Agreement (SLA) is a period of time defined by the receiving Agency  in order to provide the customer with the expected time until an update or final resolution of the request.  The SLA is defined in the customer service system used by 311 and the Agencies. Each record represents a type of Service Request and the time for response. This dataset can be used to learn about Agency areas of responsibility and response. The SLA information provided is the time the agency projects for their first response on this type of problem. Once the Service Request is received, the SLA may change as the Agency takes action an the issue, and/or this initial SLA may represent time to the Agency's first action, versus the final resolution to an issue."
   ]
  },
  {
   "cell_type": "code",
   "execution_count": 3,
   "metadata": {},
   "outputs": [],
   "source": [
    "sla = pd.read_csv(\"data/311_Service_Level_Agreements_20231102.csv\")\n",
    "# Convert text SLA durations to float (hours)\n",
    "sla['sla'] = pd.to_timedelta(sla[sla.SLA.str.contains(\"day|hour\")].SLA).dt.total_seconds() / 3600\n",
    "sla = sla.sort_values(by=['Agency', 'Problem', 'Problem_Details', 'Additional Details', 'sla'],\n",
    "                      ascending=[True, True, True, True, False])\n",
    "\n",
    "# We only have 3 levels of granularity in the 311 reporting data, so we need to consolidate SLAs to some extent:\n",
    "sla = sla.drop_duplicates(subset=['Agency', 'Problem', 'Problem_Details']).reset_index(drop=True)"
   ]
  },
  {
   "cell_type": "code",
   "execution_count": 4,
   "metadata": {},
   "outputs": [
    {
     "data": {
      "text/html": [
       "<div>\n",
       "<style scoped>\n",
       "    .dataframe tbody tr th:only-of-type {\n",
       "        vertical-align: middle;\n",
       "    }\n",
       "\n",
       "    .dataframe tbody tr th {\n",
       "        vertical-align: top;\n",
       "    }\n",
       "\n",
       "    .dataframe thead th {\n",
       "        text-align: right;\n",
       "    }\n",
       "</style>\n",
       "<table border=\"1\" class=\"dataframe\">\n",
       "  <thead>\n",
       "    <tr style=\"text-align: right;\">\n",
       "      <th></th>\n",
       "      <th>count</th>\n",
       "      <th>mean</th>\n",
       "      <th>std</th>\n",
       "      <th>min</th>\n",
       "      <th>25%</th>\n",
       "      <th>50%</th>\n",
       "      <th>75%</th>\n",
       "      <th>max</th>\n",
       "    </tr>\n",
       "    <tr>\n",
       "      <th>Agency</th>\n",
       "      <th></th>\n",
       "      <th></th>\n",
       "      <th></th>\n",
       "      <th></th>\n",
       "      <th></th>\n",
       "      <th></th>\n",
       "      <th></th>\n",
       "      <th></th>\n",
       "    </tr>\n",
       "  </thead>\n",
       "  <tbody>\n",
       "    <tr>\n",
       "      <th>Administration for Children's Services</th>\n",
       "      <td>1.0</td>\n",
       "      <td>168.000000</td>\n",
       "      <td>NaN</td>\n",
       "      <td>168.0</td>\n",
       "      <td>168.00</td>\n",
       "      <td>168.0</td>\n",
       "      <td>168.00</td>\n",
       "      <td>168.0</td>\n",
       "    </tr>\n",
       "    <tr>\n",
       "      <th>Department for the Aging</th>\n",
       "      <td>23.0</td>\n",
       "      <td>286.956522</td>\n",
       "      <td>97.750833</td>\n",
       "      <td>72.0</td>\n",
       "      <td>336.00</td>\n",
       "      <td>336.0</td>\n",
       "      <td>336.00</td>\n",
       "      <td>336.0</td>\n",
       "    </tr>\n",
       "    <tr>\n",
       "      <th>Department of Buildings</th>\n",
       "      <td>115.0</td>\n",
       "      <td>813.078261</td>\n",
       "      <td>696.030111</td>\n",
       "      <td>48.0</td>\n",
       "      <td>48.00</td>\n",
       "      <td>960.0</td>\n",
       "      <td>960.00</td>\n",
       "      <td>2160.0</td>\n",
       "    </tr>\n",
       "    <tr>\n",
       "      <th>Department of Consumer Affairs</th>\n",
       "      <td>68.0</td>\n",
       "      <td>97.058824</td>\n",
       "      <td>8.731283</td>\n",
       "      <td>96.0</td>\n",
       "      <td>96.00</td>\n",
       "      <td>96.0</td>\n",
       "      <td>96.00</td>\n",
       "      <td>168.0</td>\n",
       "    </tr>\n",
       "    <tr>\n",
       "      <th>Department of Education</th>\n",
       "      <td>16.0</td>\n",
       "      <td>150.000000</td>\n",
       "      <td>38.698837</td>\n",
       "      <td>72.0</td>\n",
       "      <td>168.00</td>\n",
       "      <td>168.0</td>\n",
       "      <td>168.00</td>\n",
       "      <td>168.0</td>\n",
       "    </tr>\n",
       "    <tr>\n",
       "      <th>Department of Environmental Protection</th>\n",
       "      <td>88.0</td>\n",
       "      <td>107.079545</td>\n",
       "      <td>95.699628</td>\n",
       "      <td>1.0</td>\n",
       "      <td>24.00</td>\n",
       "      <td>72.0</td>\n",
       "      <td>240.00</td>\n",
       "      <td>336.0</td>\n",
       "    </tr>\n",
       "    <tr>\n",
       "      <th>Department of Finance</th>\n",
       "      <td>88.0</td>\n",
       "      <td>245.454545</td>\n",
       "      <td>127.657850</td>\n",
       "      <td>120.0</td>\n",
       "      <td>120.00</td>\n",
       "      <td>240.0</td>\n",
       "      <td>336.00</td>\n",
       "      <td>504.0</td>\n",
       "    </tr>\n",
       "    <tr>\n",
       "      <th>Department of Health and Mental Hygiene</th>\n",
       "      <td>168.0</td>\n",
       "      <td>717.857143</td>\n",
       "      <td>227.105037</td>\n",
       "      <td>72.0</td>\n",
       "      <td>720.00</td>\n",
       "      <td>720.0</td>\n",
       "      <td>888.00</td>\n",
       "      <td>1080.0</td>\n",
       "    </tr>\n",
       "    <tr>\n",
       "      <th>Department of Homeless Services</th>\n",
       "      <td>2.0</td>\n",
       "      <td>2.500000</td>\n",
       "      <td>2.121320</td>\n",
       "      <td>1.0</td>\n",
       "      <td>1.75</td>\n",
       "      <td>2.5</td>\n",
       "      <td>3.25</td>\n",
       "      <td>4.0</td>\n",
       "    </tr>\n",
       "    <tr>\n",
       "      <th>Department of Housing Preservation and Development</th>\n",
       "      <td>62.0</td>\n",
       "      <td>130.064516</td>\n",
       "      <td>65.697736</td>\n",
       "      <td>24.0</td>\n",
       "      <td>72.00</td>\n",
       "      <td>192.0</td>\n",
       "      <td>192.00</td>\n",
       "      <td>192.0</td>\n",
       "    </tr>\n",
       "    <tr>\n",
       "      <th>Department of Information Technology and Telecommunications</th>\n",
       "      <td>14.0</td>\n",
       "      <td>708.000000</td>\n",
       "      <td>147.270552</td>\n",
       "      <td>336.0</td>\n",
       "      <td>684.00</td>\n",
       "      <td>720.0</td>\n",
       "      <td>720.00</td>\n",
       "      <td>1080.0</td>\n",
       "    </tr>\n",
       "    <tr>\n",
       "      <th>Department of Parks and Recreation</th>\n",
       "      <td>74.0</td>\n",
       "      <td>542.594595</td>\n",
       "      <td>1990.741246</td>\n",
       "      <td>72.0</td>\n",
       "      <td>192.00</td>\n",
       "      <td>336.0</td>\n",
       "      <td>336.00</td>\n",
       "      <td>17280.0</td>\n",
       "    </tr>\n",
       "    <tr>\n",
       "      <th>Department of Records and Information Services</th>\n",
       "      <td>1.0</td>\n",
       "      <td>168.000000</td>\n",
       "      <td>NaN</td>\n",
       "      <td>168.0</td>\n",
       "      <td>168.00</td>\n",
       "      <td>168.0</td>\n",
       "      <td>168.00</td>\n",
       "      <td>168.0</td>\n",
       "    </tr>\n",
       "    <tr>\n",
       "      <th>Department of Sanitation</th>\n",
       "      <td>90.0</td>\n",
       "      <td>173.600000</td>\n",
       "      <td>309.721325</td>\n",
       "      <td>24.0</td>\n",
       "      <td>48.00</td>\n",
       "      <td>168.0</td>\n",
       "      <td>168.00</td>\n",
       "      <td>1800.0</td>\n",
       "    </tr>\n",
       "    <tr>\n",
       "      <th>Department of Transportation</th>\n",
       "      <td>228.0</td>\n",
       "      <td>696.736842</td>\n",
       "      <td>1164.507852</td>\n",
       "      <td>72.0</td>\n",
       "      <td>240.00</td>\n",
       "      <td>336.0</td>\n",
       "      <td>720.00</td>\n",
       "      <td>8760.0</td>\n",
       "    </tr>\n",
       "    <tr>\n",
       "      <th>Economic Development Corporation</th>\n",
       "      <td>3.0</td>\n",
       "      <td>240.000000</td>\n",
       "      <td>0.000000</td>\n",
       "      <td>240.0</td>\n",
       "      <td>240.00</td>\n",
       "      <td>240.0</td>\n",
       "      <td>240.00</td>\n",
       "      <td>240.0</td>\n",
       "    </tr>\n",
       "    <tr>\n",
       "      <th>Human Resources Administration</th>\n",
       "      <td>0.0</td>\n",
       "      <td>NaN</td>\n",
       "      <td>NaN</td>\n",
       "      <td>NaN</td>\n",
       "      <td>NaN</td>\n",
       "      <td>NaN</td>\n",
       "      <td>NaN</td>\n",
       "      <td>NaN</td>\n",
       "    </tr>\n",
       "    <tr>\n",
       "      <th>Mayor’s Office of Special Enforcement</th>\n",
       "      <td>1.0</td>\n",
       "      <td>168.000000</td>\n",
       "      <td>NaN</td>\n",
       "      <td>168.0</td>\n",
       "      <td>168.00</td>\n",
       "      <td>168.0</td>\n",
       "      <td>168.00</td>\n",
       "      <td>168.0</td>\n",
       "    </tr>\n",
       "    <tr>\n",
       "      <th>New York City Police Department</th>\n",
       "      <td>69.0</td>\n",
       "      <td>7.884058</td>\n",
       "      <td>0.675979</td>\n",
       "      <td>4.0</td>\n",
       "      <td>8.00</td>\n",
       "      <td>8.0</td>\n",
       "      <td>8.00</td>\n",
       "      <td>8.0</td>\n",
       "    </tr>\n",
       "    <tr>\n",
       "      <th>Taxi and Limousine Commission</th>\n",
       "      <td>21.0</td>\n",
       "      <td>272.000000</td>\n",
       "      <td>83.599043</td>\n",
       "      <td>168.0</td>\n",
       "      <td>168.00</td>\n",
       "      <td>336.0</td>\n",
       "      <td>336.00</td>\n",
       "      <td>336.0</td>\n",
       "    </tr>\n",
       "  </tbody>\n",
       "</table>\n",
       "</div>"
      ],
      "text/plain": [
       "                                                    count        mean  \\\n",
       "Agency                                                                  \n",
       "Administration for Children's Services                1.0  168.000000   \n",
       "Department for the Aging                             23.0  286.956522   \n",
       "Department of Buildings                             115.0  813.078261   \n",
       "Department of Consumer Affairs                       68.0   97.058824   \n",
       "Department of Education                              16.0  150.000000   \n",
       "Department of Environmental Protection               88.0  107.079545   \n",
       "Department of Finance                                88.0  245.454545   \n",
       "Department of Health and Mental Hygiene             168.0  717.857143   \n",
       "Department of Homeless Services                       2.0    2.500000   \n",
       "Department of Housing Preservation and Development   62.0  130.064516   \n",
       "Department of Information Technology and Teleco...   14.0  708.000000   \n",
       "Department of Parks and Recreation                   74.0  542.594595   \n",
       "Department of Records and Information Services        1.0  168.000000   \n",
       "Department of Sanitation                             90.0  173.600000   \n",
       "Department of Transportation                        228.0  696.736842   \n",
       "Economic Development Corporation                      3.0  240.000000   \n",
       "Human Resources Administration                        0.0         NaN   \n",
       "Mayor’s Office of Special Enforcement                 1.0  168.000000   \n",
       "New York City Police Department                      69.0    7.884058   \n",
       "Taxi and Limousine Commission                        21.0  272.000000   \n",
       "\n",
       "                                                            std    min  \\\n",
       "Agency                                                                   \n",
       "Administration for Children's Services                      NaN  168.0   \n",
       "Department for the Aging                              97.750833   72.0   \n",
       "Department of Buildings                              696.030111   48.0   \n",
       "Department of Consumer Affairs                         8.731283   96.0   \n",
       "Department of Education                               38.698837   72.0   \n",
       "Department of Environmental Protection                95.699628    1.0   \n",
       "Department of Finance                                127.657850  120.0   \n",
       "Department of Health and Mental Hygiene              227.105037   72.0   \n",
       "Department of Homeless Services                        2.121320    1.0   \n",
       "Department of Housing Preservation and Development    65.697736   24.0   \n",
       "Department of Information Technology and Teleco...   147.270552  336.0   \n",
       "Department of Parks and Recreation                  1990.741246   72.0   \n",
       "Department of Records and Information Services              NaN  168.0   \n",
       "Department of Sanitation                             309.721325   24.0   \n",
       "Department of Transportation                        1164.507852   72.0   \n",
       "Economic Development Corporation                       0.000000  240.0   \n",
       "Human Resources Administration                              NaN    NaN   \n",
       "Mayor’s Office of Special Enforcement                       NaN  168.0   \n",
       "New York City Police Department                        0.675979    4.0   \n",
       "Taxi and Limousine Commission                         83.599043  168.0   \n",
       "\n",
       "                                                       25%    50%     75%  \\\n",
       "Agency                                                                      \n",
       "Administration for Children's Services              168.00  168.0  168.00   \n",
       "Department for the Aging                            336.00  336.0  336.00   \n",
       "Department of Buildings                              48.00  960.0  960.00   \n",
       "Department of Consumer Affairs                       96.00   96.0   96.00   \n",
       "Department of Education                             168.00  168.0  168.00   \n",
       "Department of Environmental Protection               24.00   72.0  240.00   \n",
       "Department of Finance                               120.00  240.0  336.00   \n",
       "Department of Health and Mental Hygiene             720.00  720.0  888.00   \n",
       "Department of Homeless Services                       1.75    2.5    3.25   \n",
       "Department of Housing Preservation and Development   72.00  192.0  192.00   \n",
       "Department of Information Technology and Teleco...  684.00  720.0  720.00   \n",
       "Department of Parks and Recreation                  192.00  336.0  336.00   \n",
       "Department of Records and Information Services      168.00  168.0  168.00   \n",
       "Department of Sanitation                             48.00  168.0  168.00   \n",
       "Department of Transportation                        240.00  336.0  720.00   \n",
       "Economic Development Corporation                    240.00  240.0  240.00   \n",
       "Human Resources Administration                         NaN    NaN     NaN   \n",
       "Mayor’s Office of Special Enforcement               168.00  168.0  168.00   \n",
       "New York City Police Department                       8.00    8.0    8.00   \n",
       "Taxi and Limousine Commission                       168.00  336.0  336.00   \n",
       "\n",
       "                                                        max  \n",
       "Agency                                                       \n",
       "Administration for Children's Services                168.0  \n",
       "Department for the Aging                              336.0  \n",
       "Department of Buildings                              2160.0  \n",
       "Department of Consumer Affairs                        168.0  \n",
       "Department of Education                               168.0  \n",
       "Department of Environmental Protection                336.0  \n",
       "Department of Finance                                 504.0  \n",
       "Department of Health and Mental Hygiene              1080.0  \n",
       "Department of Homeless Services                         4.0  \n",
       "Department of Housing Preservation and Development    192.0  \n",
       "Department of Information Technology and Teleco...   1080.0  \n",
       "Department of Parks and Recreation                  17280.0  \n",
       "Department of Records and Information Services        168.0  \n",
       "Department of Sanitation                             1800.0  \n",
       "Department of Transportation                         8760.0  \n",
       "Economic Development Corporation                      240.0  \n",
       "Human Resources Administration                          NaN  \n",
       "Mayor’s Office of Special Enforcement                 168.0  \n",
       "New York City Police Department                         8.0  \n",
       "Taxi and Limousine Commission                         336.0  "
      ]
     },
     "execution_count": 4,
     "metadata": {},
     "output_type": "execute_result"
    }
   ],
   "source": [
    "sla.groupby('Agency').sla.describe()"
   ]
  },
  {
   "cell_type": "markdown",
   "metadata": {},
   "source": [
    "### Service Requests"
   ]
  },
  {
   "cell_type": "code",
   "execution_count": 5,
   "metadata": {
    "colab": {
     "base_uri": "https://localhost:8080/"
    },
    "executionInfo": {
     "elapsed": 838,
     "status": "ok",
     "timestamp": 1698963031703,
     "user": {
      "displayName": "Kim Sha",
      "userId": "00578803903370555322"
     },
     "user_tz": 240
    },
    "id": "QyTeyFMh-CCv",
    "outputId": "d90b328e-a128-4b80-8aa9-4547c90be0d4"
   },
   "outputs": [
    {
     "data": {
      "text/plain": [
       "34968354"
      ]
     },
     "execution_count": 5,
     "metadata": {},
     "output_type": "execute_result"
    }
   ],
   "source": [
    "# APP_TOKEN = os.getenv(\"APP_TOKEN\")\n",
    "APP_TOKEN=\"5Z1Lf9axwk4tNJMF1Q4Uz16i4\"\n",
    "\n",
    "client = Socrata(\"data.cityofnewyork.us\", APP_TOKEN, timeout=3600)\n",
    "\n",
    "# Total number of records in this dataset\n",
    "num_records = int(client.get(\"erm2-nwe9\", query=\"SELECT COUNT(*)\")[0]['COUNT'])\n",
    "num_records"
   ]
  },
  {
   "cell_type": "code",
   "execution_count": 6,
   "metadata": {
    "id": "b7f3c1q5-VhF"
   },
   "outputs": [],
   "source": [
    "# %%time\n",
    "# query = f\"\"\"\n",
    "#     SELECT\n",
    "#         unique_key, created_date, due_date, closed_date, resolution_action_updated_date, status, resolution_description,\n",
    "#         agency, agency_name, community_board, open_data_channel_type, complaint_type, descriptor,\n",
    "#         city, borough, incident_zip, bbl, location_type, street_name, landmark, incident_address, facility_type,\n",
    "#         park_facility_name, vehicle_type, bridge_highway_name, bridge_highway_segment,\n",
    "#         latitude, longitude\n",
    "#     WHERE DATE_EXTRACT_Y(created_date) = \"2023\"\n",
    "#     ORDER BY created_date\n",
    "#     LIMIT {num_records}\n",
    "# \"\"\"\n",
    "# reports = pd.DataFrame.from_records(client.get(\"erm2-nwe9\", query=query))"
   ]
  },
  {
   "cell_type": "code",
   "execution_count": 7,
   "metadata": {
    "id": "qq9Q0Ks4-S6U"
   },
   "outputs": [],
   "source": [
    "# reports = reports.astype({'unique_key':'int32', 'latitude':float, 'longitude':float})\n",
    "\n",
    "# for col in reports.columns[reports.columns.str.contains('date')]:\n",
    "#     reports[col] = pd.to_datetime(reports[col])"
   ]
  },
  {
   "cell_type": "code",
   "execution_count": 8,
   "metadata": {},
   "outputs": [],
   "source": [
    "# for col in tqdm(['status', 'agency', 'agency_name', 'community_board', 'open_data_channel_type', #'complaint_type',\n",
    "#                  'city', 'borough', 'incident_zip', 'location_type']):\n",
    "#     reports[col] = pd.Categorical(reports[col])"
   ]
  },
  {
   "cell_type": "code",
   "execution_count": 9,
   "metadata": {},
   "outputs": [],
   "source": [
    "# # TTR = time to resolve\n",
    "# # TD = timedelta = time to resolve when closed date exists, time from open to now otherwise (in hours)\n",
    "# reports['td'] = (reports.closed_date.fillna(pd.Timestamp.now()) - reports.created_date).dt.total_seconds() / 3600"
   ]
  },
  {
   "cell_type": "code",
   "execution_count": 10,
   "metadata": {},
   "outputs": [
    {
     "data": {
      "text/plain": [
       "(2698097, 29)"
      ]
     },
     "execution_count": 10,
     "metadata": {},
     "output_type": "execute_result"
    }
   ],
   "source": [
    "# # Save Year-To-Date data for easier access down the road\n",
    "# reports.to_parquet(\"data/311_reports_2023.parquet\", index=False)\n",
    "reports = pd.read_parquet(\"data/311_reports_2023.parquet\")\n",
    "reports.shape"
   ]
  },
  {
   "cell_type": "markdown",
   "metadata": {},
   "source": [
    "## Data Engineering\n",
    "\n",
    "### Merging\n",
    "Let us figure out what are the \"foreign keys\" that allow us to join these datasets together"
   ]
  },
  {
   "cell_type": "code",
   "execution_count": 11,
   "metadata": {},
   "outputs": [
    {
     "name": "stdout",
     "output_type": "stream",
     "text": [
      "{'Department of Finance', 'Department of Information Technology and Telecommunications', 'Department of Records and Information Services', 'Mayor’s Office of Special Enforcement', 'Human Resources Administration', 'Department for the Aging', \"Administration for Children's Services\"}\n",
      "{'Department of Consumer and Worker Protection', 'Consumer Complaints Division', 'Office of Technology and Innovation'}\n"
     ]
    },
    {
     "data": {
      "image/png": "[encoded data removed]",
      "text/plain": [
       "<Figure size 640x480 with 1 Axes>"
      ]
     },
     "metadata": {},
     "output_type": "display_data"
    }
   ],
   "source": [
    "# Overlap in agency names\n",
    "venn2([set(reports.agency_name), set(sla.Agency)], set_labels=['311 reports', 'SLA data'])\n",
    "print(set(sla.Agency) - set(reports.agency_name))\n",
    "print(set(reports.agency_name) - set(sla.Agency))"
   ]
  },
  {
   "cell_type": "code",
   "execution_count": 12,
   "metadata": {},
   "outputs": [
    {
     "data": {
      "text/plain": [
       "<matplotlib_venn._common.VennDiagram at 0x290344d90>"
      ]
     },
     "execution_count": 12,
     "metadata": {},
     "output_type": "execute_result"
    },
    {
     "data": {
      "image/png": "[encoded data removed]",
      "text/plain": [
       "<Figure size 640x480 with 1 Axes>"
      ]
     },
     "metadata": {},
     "output_type": "display_data"
    }
   ],
   "source": [
    "venn2([set(reports[reports.agency_name.isin(sla.Agency)].complaint_type),\n",
    "       set(sla[sla.Agency.isin(reports.agency_name)].Problem)], \n",
    "      set_labels=['311 reports', 'SLA data'])"
   ]
  },
  {
   "cell_type": "code",
   "execution_count": 13,
   "metadata": {},
   "outputs": [
    {
     "data": {
      "text/plain": [
       "<matplotlib_venn._common.VennDiagram at 0x2903a85b0>"
      ]
     },
     "execution_count": 13,
     "metadata": {},
     "output_type": "execute_result"
    },
    {
     "data": {
      "image/png": "[encoded data removed]",
      "text/plain": [
       "<Figure size 640x480 with 1 Axes>"
      ]
     },
     "metadata": {},
     "output_type": "display_data"
    }
   ],
   "source": [
    "venn2([set(reports[(reports.agency_name.isin(sla.Agency)) & (reports.complaint_type.isin(sla.Problem))].descriptor),\n",
    "       set(sla[(sla.Agency.isin(reports.agency_name)) & (sla.Problem.isin(reports.complaint_type))].Problem_Details)],\n",
    "       set_labels=['311 reports', 'SLA data'])"
   ]
  },
  {
   "cell_type": "code",
   "execution_count": 14,
   "metadata": {},
   "outputs": [
    {
     "data": {
      "text/plain": [
       "(1628107, 30)"
      ]
     },
     "execution_count": 14,
     "metadata": {},
     "output_type": "execute_result"
    }
   ],
   "source": [
    "sla = sla.dropna(subset=['Agency', 'Problem', 'Problem_Details']).set_index(['Agency', 'Problem', 'Problem_Details']).sla.dropna()\n",
    "\n",
    "reports = reports.merge(sla, how='inner', left_on=['agency_name', 'complaint_type', 'descriptor'], right_index=True)\n",
    "reports.shape"
   ]
  },
  {
   "cell_type": "code",
   "execution_count": 15,
   "metadata": {},
   "outputs": [
    {
     "data": {
      "text/plain": [
       "(1496059, 30)"
      ]
     },
     "execution_count": 15,
     "metadata": {},
     "output_type": "execute_result"
    }
   ],
   "source": [
    "# Thoughts: we should probably filter to data cases that have been completed already\n",
    "reports = reports[(reports.status==\"Closed\") & (reports.closed_date.notna()) & (reports.td > 0)]\n",
    "reports.shape"
   ]
  },
  {
   "cell_type": "markdown",
   "metadata": {},
   "source": [
    "### Create Target Variable"
   ]
  },
  {
   "cell_type": "code",
   "execution_count": 16,
   "metadata": {},
   "outputs": [
    {
     "data": {
      "text/html": [
       "<div>\n",
       "<style scoped>\n",
       "    .dataframe tbody tr th:only-of-type {\n",
       "        vertical-align: middle;\n",
       "    }\n",
       "\n",
       "    .dataframe tbody tr th {\n",
       "        vertical-align: top;\n",
       "    }\n",
       "\n",
       "    .dataframe thead th {\n",
       "        text-align: right;\n",
       "    }\n",
       "</style>\n",
       "<table border=\"1\" class=\"dataframe\">\n",
       "  <thead>\n",
       "    <tr style=\"text-align: right;\">\n",
       "      <th></th>\n",
       "      <th>count</th>\n",
       "      <th>sum</th>\n",
       "      <th>mean</th>\n",
       "    </tr>\n",
       "    <tr>\n",
       "      <th>agency_name</th>\n",
       "      <th></th>\n",
       "      <th></th>\n",
       "      <th></th>\n",
       "    </tr>\n",
       "  </thead>\n",
       "  <tbody>\n",
       "    <tr>\n",
       "      <th>Department of Consumer Affairs</th>\n",
       "      <td>7631</td>\n",
       "      <td>80</td>\n",
       "      <td>0.010484</td>\n",
       "    </tr>\n",
       "    <tr>\n",
       "      <th>Department of Education</th>\n",
       "      <td>949</td>\n",
       "      <td>381</td>\n",
       "      <td>0.401475</td>\n",
       "    </tr>\n",
       "    <tr>\n",
       "      <th>Department of Health and Mental Hygiene</th>\n",
       "      <td>22810</td>\n",
       "      <td>714</td>\n",
       "      <td>0.031302</td>\n",
       "    </tr>\n",
       "    <tr>\n",
       "      <th>Department of Homeless Services</th>\n",
       "      <td>22</td>\n",
       "      <td>9</td>\n",
       "      <td>0.409091</td>\n",
       "    </tr>\n",
       "    <tr>\n",
       "      <th>Department of Parks and Recreation</th>\n",
       "      <td>61940</td>\n",
       "      <td>21489</td>\n",
       "      <td>0.346933</td>\n",
       "    </tr>\n",
       "    <tr>\n",
       "      <th>Department of Sanitation</th>\n",
       "      <td>169465</td>\n",
       "      <td>62504</td>\n",
       "      <td>0.368831</td>\n",
       "    </tr>\n",
       "    <tr>\n",
       "      <th>Department of Transportation</th>\n",
       "      <td>70371</td>\n",
       "      <td>10402</td>\n",
       "      <td>0.147817</td>\n",
       "    </tr>\n",
       "    <tr>\n",
       "      <th>Economic Development Corporation</th>\n",
       "      <td>32911</td>\n",
       "      <td>32908</td>\n",
       "      <td>0.999909</td>\n",
       "    </tr>\n",
       "    <tr>\n",
       "      <th>New York City Police Department</th>\n",
       "      <td>1108494</td>\n",
       "      <td>37894</td>\n",
       "      <td>0.034185</td>\n",
       "    </tr>\n",
       "    <tr>\n",
       "      <th>Taxi and Limousine Commission</th>\n",
       "      <td>21466</td>\n",
       "      <td>14392</td>\n",
       "      <td>0.670456</td>\n",
       "    </tr>\n",
       "  </tbody>\n",
       "</table>\n",
       "</div>"
      ],
      "text/plain": [
       "                                           count    sum      mean\n",
       "agency_name                                                      \n",
       "Department of Consumer Affairs              7631     80  0.010484\n",
       "Department of Education                      949    381  0.401475\n",
       "Department of Health and Mental Hygiene    22810    714  0.031302\n",
       "Department of Homeless Services               22      9  0.409091\n",
       "Department of Parks and Recreation         61940  21489  0.346933\n",
       "Department of Sanitation                  169465  62504  0.368831\n",
       "Department of Transportation               70371  10402  0.147817\n",
       "Economic Development Corporation           32911  32908  0.999909\n",
       "New York City Police Department          1108494  37894  0.034185\n",
       "Taxi and Limousine Commission              21466  14392  0.670456"
      ]
     },
     "execution_count": 16,
     "metadata": {},
     "output_type": "execute_result"
    }
   ],
   "source": [
    "reports['breached'] = reports.td > reports.sla\n",
    "reports.groupby('agency_name').breached.agg(['count', 'sum', 'mean'])"
   ]
  },
  {
   "cell_type": "markdown",
   "metadata": {},
   "source": [
    "Moving forward let's remove `Economic Development Corporation` service requests, as they only seem to field one type of complaint (`Noise - Helicopter`) with response \"this issue is not within its jurisdiction\"."
   ]
  },
  {
   "cell_type": "code",
   "execution_count": 17,
   "metadata": {},
   "outputs": [
    {
     "data": {
      "text/plain": [
       "breached\n",
       "False    0.898941\n",
       "True     0.101059\n",
       "Name: proportion, dtype: float64"
      ]
     },
     "execution_count": 17,
     "metadata": {},
     "output_type": "execute_result"
    }
   ],
   "source": [
    "reports = reports[~reports.agency_name.isin(['Economic Development Corporation'])]\n",
    "reports.breached.value_counts(1)"
   ]
  },
  {
   "cell_type": "markdown",
   "metadata": {},
   "source": [
    "### Feature Engineering"
   ]
  },
  {
   "cell_type": "markdown",
   "metadata": {},
   "source": [
    "#### Word Embeddings"
   ]
  },
  {
   "cell_type": "code",
   "execution_count": 18,
   "metadata": {},
   "outputs": [],
   "source": [
    "# # run this from a normal command line\n",
    "# !python -m spacy download en_core_web_md\n",
    "import spacy\n",
    "nlp = spacy.load('en_core_web_md')"
   ]
  },
  {
   "cell_type": "code",
   "execution_count": 19,
   "metadata": {},
   "outputs": [],
   "source": [
    "reports['document'] = (\n",
    "    reports.complaint_type \\\n",
    "    + ' ' + reports.descriptor \\\n",
    "    + ' ' + reports.location_type.astype(str) \\\n",
    "    + ' ' + reports.community_board.astype(str)\n",
    "    # + ' ' + reports.street_name \\\n",
    "    + ' ' + reports.incident_address.fillna('') \\\n",
    "    + ' ' + reports.park_facility_name \\\n",
    "    + ' ' + reports.bridge_highway_name.fillna('') \\\n",
    "    + ' ' + reports.vehicle_type.fillna('') \\\n",
    "    # + ' ' + reports.resolution_description.fillna('') # not available when first created\n",
    ")"
   ]
  },
  {
   "cell_type": "code",
   "execution_count": 20,
   "metadata": {},
   "outputs": [
    {
     "name": "stdout",
     "output_type": "stream",
     "text": [
      "CPU times: user 8.51 s, sys: 7.75 s, total: 16.3 s\n",
      "Wall time: 18min 26s\n"
     ]
    },
    {
     "data": {
      "text/plain": [
       "1463148"
      ]
     },
     "execution_count": 20,
     "metadata": {},
     "output_type": "execute_result"
    }
   ],
   "source": [
    "%%time\n",
    "\n",
    "# Get the mean vector for the entire sentence (useful for sentence classification etc.)\n",
    "# Takes awhile so let's parallelize it!\n",
    "with mp.Pool() as pool:\n",
    "    pooled_results = pool.map(lambda x: nlp(x).vector, reports.document)\n",
    "len(pooled_results)"
   ]
  },
  {
   "cell_type": "code",
   "execution_count": 21,
   "metadata": {},
   "outputs": [
    {
     "name": "stdout",
     "output_type": "stream",
     "text": [
      "<class 'pandas.core.frame.DataFrame'>\n",
      "RangeIndex: 1463148 entries, 0 to 1463147\n",
      "Columns: 300 entries, e0 to e299\n",
      "dtypes: float32(300)\n",
      "memory usage: 1.6 GB\n"
     ]
    }
   ],
   "source": [
    "embeddings = np.stack(pooled_results)\n",
    "embeddings = pd.DataFrame(embeddings, columns = [f'e{i}' for i in range(300)])\n",
    "embeddings.info()"
   ]
  },
  {
   "cell_type": "markdown",
   "metadata": {},
   "source": [
    "#### Combining"
   ]
  },
  {
   "cell_type": "markdown",
   "metadata": {},
   "source": [
    "First, let's drop all the features that are either irrelevant, 1:1 mapped, related to other fields, or wouldn't be known at inference time:"
   ]
  },
  {
   "cell_type": "code",
   "execution_count": 22,
   "metadata": {},
   "outputs": [],
   "source": [
    "# reports = reports.drop(columns=['unique_key', 'closed_date', 'resolution_action_updated_date', 'status',\n",
    "#                                 'agency', # we already have agency_name\n",
    "#                                 'city', 'borough', # effectively captured in community board\n",
    "#                                 'street_name', 'landmark', 'incident_address',\n",
    "#                                 'park_facility_name', 'facility_type',\n",
    "#                                 'bridge_highway_name', 'bridge_highway_segment', 'vehicle_type',\n",
    "#                                 # borough-block-lot so granular we might as well figure out how to work with lat/long\n",
    "#                                 'incident_zip', 'bbl',\n",
    "#                                 'due_date'])"
   ]
  },
  {
   "cell_type": "markdown",
   "metadata": {},
   "source": [
    "Now, let's create some features so we can work with time-based features:"
   ]
  },
  {
   "cell_type": "code",
   "execution_count": 23,
   "metadata": {},
   "outputs": [],
   "source": [
    "reports[f\"created_month\"] = reports.created_date.dt.month\n",
    "reports[f\"created_hour\"] = reports.created_date.dt.hour\n",
    "reports[f\"created_dayofweek\"] = reports.created_date.dt.dayofweek\n",
    "# reports = reports.drop(columns=['created_date'])"
   ]
  },
  {
   "cell_type": "code",
   "execution_count": 24,
   "metadata": {},
   "outputs": [],
   "source": [
    "reports = reports[['breached', 'agency_name', 'open_data_channel_type', 'latitude', 'longitude', 'created_month', 'created_hour', 'created_dayofweek']].reset_index(drop=True)"
   ]
  },
  {
   "cell_type": "code",
   "execution_count": 25,
   "metadata": {},
   "outputs": [
    {
     "name": "stdout",
     "output_type": "stream",
     "text": [
      "<class 'pandas.core.frame.DataFrame'>\n",
      "RangeIndex: 1463148 entries, 0 to 1463147\n",
      "Columns: 308 entries, breached to e299\n",
      "dtypes: bool(1), category(1), float32(300), float64(2), int32(3), object(1)\n",
      "memory usage: 1.7+ GB\n"
     ]
    }
   ],
   "source": [
    "combined_reports = pd.concat([reports, embeddings], axis=1)\n",
    "combined_reports.info()"
   ]
  },
  {
   "cell_type": "markdown",
   "metadata": {},
   "source": [
    "## Write Outputs"
   ]
  },
  {
   "cell_type": "code",
   "execution_count": 26,
   "metadata": {},
   "outputs": [],
   "source": [
    "# Save Year-To-Date data for easier access down the road\n",
    "combined_reports.to_parquet(\"data/311_reports_2023_embeddings.parquet\", index=False)"
   ]
  },
  {
   "cell_type": "code",
   "execution_count": null,
   "metadata": {},
   "outputs": [],
   "source": []
  }
 ],
 "metadata": {
  "colab": {
   "provenance": []
  },
  "kernelspec": {
   "display_name": "Python [conda env:aml]",
   "language": "python",
   "name": "conda-env-aml-py"
  },
  "language_info": {
   "codemirror_mode": {
    "name": "ipython",
    "version": 3
   },
   "file_extension": ".py",
   "mimetype": "text/x-python",
   "name": "python",
   "nbconvert_exporter": "python",
   "pygments_lexer": "ipython3",
   "version": "3.10.8"
  }
 },
 "nbformat": 4,
 "nbformat_minor": 4
}
